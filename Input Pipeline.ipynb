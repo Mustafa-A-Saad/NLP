{
 "cells": [
  {
   "cell_type": "code",
   "execution_count": 17,
   "id": "caf28a44",
   "metadata": {},
   "outputs": [],
   "source": [
    "import tensorflow as tf"
   ]
  },
  {
   "cell_type": "code",
   "execution_count": 18,
   "id": "36adf075",
   "metadata": {},
   "outputs": [],
   "source": [
    "daily_sales_numbers = [21,22,-108,-1,32,34,31]"
   ]
  },
  {
   "cell_type": "code",
   "execution_count": 19,
   "id": "7f1a043a",
   "metadata": {},
   "outputs": [
    {
     "data": {
      "text/plain": [
       "<_TensorSliceDataset element_spec=TensorSpec(shape=(), dtype=tf.int32, name=None)>"
      ]
     },
     "execution_count": 19,
     "metadata": {},
     "output_type": "execute_result"
    }
   ],
   "source": [
    "tf_dataset = tf.data.Dataset.from_tensor_slices(daily_sales_numbers) # reads the data\n",
    "tf_dataset"
   ]
  },
  {
   "cell_type": "code",
   "execution_count": 20,
   "id": "1692df01",
   "metadata": {},
   "outputs": [
    {
     "name": "stdout",
     "output_type": "stream",
     "text": [
      "21\n",
      "22\n",
      "-108\n",
      "-1\n",
      "32\n",
      "34\n",
      "31\n"
     ]
    }
   ],
   "source": [
    "for sales in tf_dataset:\n",
    "    print(sales.numpy())"
   ]
  },
  {
   "cell_type": "code",
   "execution_count": 21,
   "id": "2eae3ecb",
   "metadata": {},
   "outputs": [
    {
     "name": "stdout",
     "output_type": "stream",
     "text": [
      "21\n",
      "22\n",
      "-108\n"
     ]
    }
   ],
   "source": [
    "for sales in tf_dataset.take(3): # like head()\n",
    "    print(sales.numpy())"
   ]
  },
  {
   "cell_type": "code",
   "execution_count": 22,
   "id": "03d0cb0f",
   "metadata": {},
   "outputs": [],
   "source": [
    "tf_dataset = tf_dataset.filter(lambda x: x>0 )"
   ]
  },
  {
   "cell_type": "code",
   "execution_count": 23,
   "id": "b4f96aab",
   "metadata": {},
   "outputs": [
    {
     "name": "stdout",
     "output_type": "stream",
     "text": [
      "21\n",
      "22\n",
      "32\n",
      "34\n",
      "31\n"
     ]
    }
   ],
   "source": [
    "for sales in tf_dataset:\n",
    "    print(sales.numpy())"
   ]
  },
  {
   "cell_type": "code",
   "execution_count": 24,
   "id": "1b0b5417",
   "metadata": {},
   "outputs": [
    {
     "name": "stdout",
     "output_type": "stream",
     "text": [
      "1512\n",
      "1584\n",
      "2304\n",
      "2448\n",
      "2232\n"
     ]
    }
   ],
   "source": [
    "tf_dataset = tf_dataset.map(lambda x:x*72)\n",
    "for sales in tf_dataset:\n",
    "    print(sales.numpy())"
   ]
  },
  {
   "cell_type": "code",
   "execution_count": 26,
   "id": "ee38ae07",
   "metadata": {},
   "outputs": [
    {
     "name": "stdout",
     "output_type": "stream",
     "text": [
      "2304\n",
      "1512\n",
      "1584\n",
      "2448\n",
      "2232\n"
     ]
    }
   ],
   "source": [
    "tf_dataset = tf_dataset.shuffle(buffer_size=3)\n",
    "for sales in tf_dataset:\n",
    "    print(sales.numpy()) "
   ]
  },
  {
   "cell_type": "code",
   "execution_count": 28,
   "id": "43143601",
   "metadata": {},
   "outputs": [
    {
     "name": "stdout",
     "output_type": "stream",
     "text": [
      "[2448 1584 2232 2304]\n",
      "[1512]\n"
     ]
    }
   ],
   "source": [
    "tf_dataset = tf_dataset.batch(4);\n",
    "for sales in tf_dataset:\n",
    "    print(sales.numpy())"
   ]
  },
  {
   "cell_type": "code",
   "execution_count": 30,
   "id": "46a34e55",
   "metadata": {},
   "outputs": [],
   "source": [
    "tf_dataset = tf.data.Dataset.from_tensor_slices(daily_sales_numbers)\n",
    "\n",
    "tf_dataset = tf_dataset.filter(lambda x:x>0).map(lambda y:y*72).shuffle(3).batch(2) # can be done in 1 shot"
   ]
  },
  {
   "cell_type": "code",
   "execution_count": 31,
   "id": "64158326",
   "metadata": {},
   "outputs": [
    {
     "name": "stdout",
     "output_type": "stream",
     "text": [
      "[2304 1584]\n",
      "[2448 2232]\n",
      "[1512]\n"
     ]
    }
   ],
   "source": [
    "for sales in tf_dataset:\n",
    "    print(sales.numpy())"
   ]
  },
  {
   "cell_type": "code",
   "execution_count": 34,
   "id": "20cfd54a",
   "metadata": {},
   "outputs": [
    {
     "name": "stdout",
     "output_type": "stream",
     "text": [
      "b'images\\\\cat\\\\International Cat Care _ The ultimate....jpg'\n",
      "b'images\\\\dog\\\\Puppy Dog Pictures _ Download Free....jpg'\n",
      "b'images\\\\cat\\\\Want your cat to stay in purrrfect....jpg'\n",
      "b'images\\\\cat\\\\Reality check_ Can cat poop cause....jpg'\n",
      "b'images\\\\cat\\\\The Cat Health Checklist_ Everything....jpg'\n"
     ]
    }
   ],
   "source": [
    "images_ds = tf.data.Dataset.list_files('images/*/*',shuffle=True)\n",
    "\n",
    "for file in images_ds.take(5):\n",
    "    print(file.numpy())"
   ]
  },
  {
   "cell_type": "code",
   "execution_count": 37,
   "id": "e59d88ed",
   "metadata": {},
   "outputs": [],
   "source": [
    "class_names = [\"cat\",\"dog\"]"
   ]
  },
  {
   "cell_type": "code",
   "execution_count": 39,
   "id": "fa933731",
   "metadata": {},
   "outputs": [
    {
     "data": {
      "text/plain": [
       "130"
      ]
     },
     "execution_count": 39,
     "metadata": {},
     "output_type": "execute_result"
    }
   ],
   "source": [
    "image_count = len(images_ds)\n",
    "image_count"
   ]
  },
  {
   "cell_type": "code",
   "execution_count": 40,
   "id": "c6e61ccd",
   "metadata": {},
   "outputs": [],
   "source": [
    "# Train/Test Splitting\n",
    "\n",
    "train_size = int(image_count*0.8)\n",
    "\n",
    "train_ds = images_ds.take(train_size) # takes 80%\n",
    "test_ds = images_ds.skip(train_size) # skips 80% "
   ]
  },
  {
   "cell_type": "code",
   "execution_count": 41,
   "id": "db5cee86",
   "metadata": {},
   "outputs": [
    {
     "data": {
      "text/plain": [
       "(104, 26)"
      ]
     },
     "execution_count": 41,
     "metadata": {},
     "output_type": "execute_result"
    }
   ],
   "source": [
    "len(train_ds),len(test_ds)"
   ]
  },
  {
   "cell_type": "code",
   "execution_count": 43,
   "id": "c5aba7fd",
   "metadata": {},
   "outputs": [
    {
     "data": {
      "text/plain": [
       "'dog'"
      ]
     },
     "execution_count": 43,
     "metadata": {},
     "output_type": "execute_result"
    }
   ],
   "source": [
    "s = 'images\\\\dog\\\\why dogs understand our....jpg'\n",
    "\n",
    "s.split(\"\\\\\")[-2]"
   ]
  },
  {
   "cell_type": "code",
   "execution_count": 52,
   "id": "70fbb439",
   "metadata": {},
   "outputs": [],
   "source": [
    "import os\n",
    "def get_label(file_path):\n",
    "    return tf.strings.split(file_path,os.path.sep)[-2]\n"
   ]
  },
  {
   "cell_type": "code",
   "execution_count": 51,
   "id": "caeda15a",
   "metadata": {},
   "outputs": [
    {
     "name": "stdout",
     "output_type": "stream",
     "text": [
      "b'images\\\\dog\\\\List of Dog Breeds _ Petfinder.jpg'\n",
      "b'images\\\\dog\\\\Most Popular Breeds \\xe2\\x80\\x93 American Kennel Club.jpg'\n",
      "b'images\\\\dog\\\\Carolina Dog Dog Breed Information....jpg'\n",
      "b'images\\\\dog\\\\15 Amazing Facts About Dogs That Will....jpg'\n"
     ]
    }
   ],
   "source": [
    "for t in train_ds.take(4):\n",
    "    print(t.numpy())"
   ]
  },
  {
   "cell_type": "code",
   "execution_count": 54,
   "id": "00c0540e",
   "metadata": {
    "scrolled": true
   },
   "outputs": [
    {
     "name": "stdout",
     "output_type": "stream",
     "text": [
      "tf.Tensor(b'dog', shape=(), dtype=string)\n",
      "tf.Tensor(b'dog', shape=(), dtype=string)\n",
      "tf.Tensor(b'cat', shape=(), dtype=string)\n",
      "tf.Tensor(b'dog', shape=(), dtype=string)\n",
      "tf.Tensor(b'dog', shape=(), dtype=string)\n",
      "tf.Tensor(b'dog', shape=(), dtype=string)\n",
      "tf.Tensor(b'dog', shape=(), dtype=string)\n",
      "tf.Tensor(b'dog', shape=(), dtype=string)\n",
      "tf.Tensor(b'cat', shape=(), dtype=string)\n",
      "tf.Tensor(b'dog', shape=(), dtype=string)\n",
      "tf.Tensor(b'dog', shape=(), dtype=string)\n",
      "tf.Tensor(b'cat', shape=(), dtype=string)\n",
      "tf.Tensor(b'dog', shape=(), dtype=string)\n",
      "tf.Tensor(b'dog', shape=(), dtype=string)\n",
      "tf.Tensor(b'cat', shape=(), dtype=string)\n",
      "tf.Tensor(b'dog', shape=(), dtype=string)\n",
      "tf.Tensor(b'cat', shape=(), dtype=string)\n",
      "tf.Tensor(b'dog', shape=(), dtype=string)\n",
      "tf.Tensor(b'cat', shape=(), dtype=string)\n",
      "tf.Tensor(b'dog', shape=(), dtype=string)\n",
      "tf.Tensor(b'dog', shape=(), dtype=string)\n",
      "tf.Tensor(b'cat', shape=(), dtype=string)\n",
      "tf.Tensor(b'dog', shape=(), dtype=string)\n",
      "tf.Tensor(b'dog', shape=(), dtype=string)\n",
      "tf.Tensor(b'dog', shape=(), dtype=string)\n",
      "tf.Tensor(b'cat', shape=(), dtype=string)\n",
      "tf.Tensor(b'dog', shape=(), dtype=string)\n",
      "tf.Tensor(b'dog', shape=(), dtype=string)\n",
      "tf.Tensor(b'cat', shape=(), dtype=string)\n",
      "tf.Tensor(b'dog', shape=(), dtype=string)\n",
      "tf.Tensor(b'dog', shape=(), dtype=string)\n",
      "tf.Tensor(b'dog', shape=(), dtype=string)\n",
      "tf.Tensor(b'dog', shape=(), dtype=string)\n",
      "tf.Tensor(b'cat', shape=(), dtype=string)\n",
      "tf.Tensor(b'cat', shape=(), dtype=string)\n",
      "tf.Tensor(b'dog', shape=(), dtype=string)\n",
      "tf.Tensor(b'dog', shape=(), dtype=string)\n",
      "tf.Tensor(b'dog', shape=(), dtype=string)\n",
      "tf.Tensor(b'dog', shape=(), dtype=string)\n",
      "tf.Tensor(b'dog', shape=(), dtype=string)\n",
      "tf.Tensor(b'cat', shape=(), dtype=string)\n",
      "tf.Tensor(b'dog', shape=(), dtype=string)\n",
      "tf.Tensor(b'cat', shape=(), dtype=string)\n",
      "tf.Tensor(b'cat', shape=(), dtype=string)\n",
      "tf.Tensor(b'dog', shape=(), dtype=string)\n",
      "tf.Tensor(b'dog', shape=(), dtype=string)\n",
      "tf.Tensor(b'dog', shape=(), dtype=string)\n",
      "tf.Tensor(b'dog', shape=(), dtype=string)\n",
      "tf.Tensor(b'dog', shape=(), dtype=string)\n",
      "tf.Tensor(b'cat', shape=(), dtype=string)\n",
      "tf.Tensor(b'cat', shape=(), dtype=string)\n",
      "tf.Tensor(b'cat', shape=(), dtype=string)\n",
      "tf.Tensor(b'cat', shape=(), dtype=string)\n",
      "tf.Tensor(b'dog', shape=(), dtype=string)\n",
      "tf.Tensor(b'dog', shape=(), dtype=string)\n",
      "tf.Tensor(b'cat', shape=(), dtype=string)\n",
      "tf.Tensor(b'cat', shape=(), dtype=string)\n",
      "tf.Tensor(b'dog', shape=(), dtype=string)\n",
      "tf.Tensor(b'dog', shape=(), dtype=string)\n",
      "tf.Tensor(b'cat', shape=(), dtype=string)\n",
      "tf.Tensor(b'cat', shape=(), dtype=string)\n",
      "tf.Tensor(b'dog', shape=(), dtype=string)\n",
      "tf.Tensor(b'dog', shape=(), dtype=string)\n",
      "tf.Tensor(b'dog', shape=(), dtype=string)\n",
      "tf.Tensor(b'dog', shape=(), dtype=string)\n",
      "tf.Tensor(b'dog', shape=(), dtype=string)\n",
      "tf.Tensor(b'dog', shape=(), dtype=string)\n",
      "tf.Tensor(b'dog', shape=(), dtype=string)\n",
      "tf.Tensor(b'dog', shape=(), dtype=string)\n",
      "tf.Tensor(b'dog', shape=(), dtype=string)\n",
      "tf.Tensor(b'cat', shape=(), dtype=string)\n",
      "tf.Tensor(b'cat', shape=(), dtype=string)\n",
      "tf.Tensor(b'dog', shape=(), dtype=string)\n",
      "tf.Tensor(b'dog', shape=(), dtype=string)\n",
      "tf.Tensor(b'cat', shape=(), dtype=string)\n",
      "tf.Tensor(b'dog', shape=(), dtype=string)\n",
      "tf.Tensor(b'dog', shape=(), dtype=string)\n",
      "tf.Tensor(b'dog', shape=(), dtype=string)\n",
      "tf.Tensor(b'dog', shape=(), dtype=string)\n",
      "tf.Tensor(b'dog', shape=(), dtype=string)\n",
      "tf.Tensor(b'dog', shape=(), dtype=string)\n",
      "tf.Tensor(b'dog', shape=(), dtype=string)\n",
      "tf.Tensor(b'dog', shape=(), dtype=string)\n",
      "tf.Tensor(b'dog', shape=(), dtype=string)\n",
      "tf.Tensor(b'dog', shape=(), dtype=string)\n",
      "tf.Tensor(b'cat', shape=(), dtype=string)\n",
      "tf.Tensor(b'dog', shape=(), dtype=string)\n",
      "tf.Tensor(b'cat', shape=(), dtype=string)\n",
      "tf.Tensor(b'cat', shape=(), dtype=string)\n",
      "tf.Tensor(b'dog', shape=(), dtype=string)\n",
      "tf.Tensor(b'dog', shape=(), dtype=string)\n",
      "tf.Tensor(b'dog', shape=(), dtype=string)\n",
      "tf.Tensor(b'dog', shape=(), dtype=string)\n",
      "tf.Tensor(b'dog', shape=(), dtype=string)\n",
      "tf.Tensor(b'cat', shape=(), dtype=string)\n",
      "tf.Tensor(b'cat', shape=(), dtype=string)\n",
      "tf.Tensor(b'dog', shape=(), dtype=string)\n",
      "tf.Tensor(b'cat', shape=(), dtype=string)\n",
      "tf.Tensor(b'dog', shape=(), dtype=string)\n",
      "tf.Tensor(b'dog', shape=(), dtype=string)\n",
      "tf.Tensor(b'dog', shape=(), dtype=string)\n",
      "tf.Tensor(b'dog', shape=(), dtype=string)\n",
      "tf.Tensor(b'dog', shape=(), dtype=string)\n",
      "tf.Tensor(b'dog', shape=(), dtype=string)\n"
     ]
    }
   ],
   "source": [
    "for label in train_ds.map(get_label):\n",
    "    print(label)\n",
    "    \n",
    "# this is our y Labels"
   ]
  },
  {
   "cell_type": "code",
   "execution_count": 56,
   "id": "63611b4f",
   "metadata": {},
   "outputs": [],
   "source": [
    "def process_image(file_path):\n",
    "    label = get_label(file_path)\n",
    "    \n",
    "    img = tf.io.read_file(file)\n",
    "    img = tf.image.decode_jpeg(img)\n",
    "    img = tf.image.resize(img,[128,128])\n",
    "    \n",
    "    return img,label\n",
    "\n",
    "# this is X  "
   ]
  },
  {
   "cell_type": "code",
   "execution_count": 62,
   "id": "908b5696",
   "metadata": {},
   "outputs": [
    {
     "name": "stdout",
     "output_type": "stream",
     "text": [
      "tf.Tensor(\n",
      "[[[230.875   230.875   232.875  ]\n",
      "  [232.375   232.375   231.75   ]\n",
      "  [234.      234.      234.     ]\n",
      "  ...\n",
      "  [214.6875  207.6875  201.6875 ]\n",
      "  [214.      205.      200.     ]\n",
      "  [213.      206.      200.     ]]\n",
      "\n",
      " [[230.125   230.125   232.125  ]\n",
      "  [232.375   232.375   234.375  ]\n",
      "  [234.03906 234.03906 234.03906]\n",
      "  ...\n",
      "  [214.      207.      201.     ]\n",
      "  [214.01562 207.0625  201.0625 ]\n",
      "  [213.      206.      200.     ]]\n",
      "\n",
      " [[230.125   231.      233.     ]\n",
      "  [231.      231.      231.     ]\n",
      "  [234.      234.      234.     ]\n",
      "  ...\n",
      "  [214.16406 207.16406 201.16406]\n",
      "  [215.      208.      202.     ]\n",
      "  [213.      206.      200.     ]]\n",
      "\n",
      " ...\n",
      "\n",
      " [[189.4375  231.4375  247.4375 ]\n",
      "  [187.3125  232.      247.4375 ]\n",
      "  [193.33594 234.21094 246.21094]\n",
      "  ...\n",
      "  [175.5625  226.5625  247.5625 ]\n",
      "  [176.5625  227.5625  248.5625 ]\n",
      "  [177.49219 229.50781 248.     ]]\n",
      "\n",
      " [[193.42969 234.8125  248.85938]\n",
      "  [187.29688 234.75    248.3125 ]\n",
      "  [182.91406 234.10156 247.35156]\n",
      "  ...\n",
      "  [172.5625  227.5625  247.5625 ]\n",
      "  [176.      227.      248.     ]\n",
      "  [176.875   227.875   246.875  ]]\n",
      "\n",
      " [[179.5625  229.9375  246.5625 ]\n",
      "  [196.57031 236.50781 252.44531]\n",
      "  [180.64844 233.64844 247.64844]\n",
      "  ...\n",
      "  [176.49219 228.17969 249.17969]\n",
      "  [176.57031 227.57031 248.57031]\n",
      "  [178.64844 229.64844 248.64844]]], shape=(128, 128, 3), dtype=float32)\n",
      "tf.Tensor(b'dog', shape=(), dtype=string)\n",
      "tf.Tensor(\n",
      "[[[230.875   230.875   232.875  ]\n",
      "  [232.375   232.375   231.75   ]\n",
      "  [234.      234.      234.     ]\n",
      "  ...\n",
      "  [214.6875  207.6875  201.6875 ]\n",
      "  [214.      205.      200.     ]\n",
      "  [213.      206.      200.     ]]\n",
      "\n",
      " [[230.125   230.125   232.125  ]\n",
      "  [232.375   232.375   234.375  ]\n",
      "  [234.03906 234.03906 234.03906]\n",
      "  ...\n",
      "  [214.      207.      201.     ]\n",
      "  [214.01562 207.0625  201.0625 ]\n",
      "  [213.      206.      200.     ]]\n",
      "\n",
      " [[230.125   231.      233.     ]\n",
      "  [231.      231.      231.     ]\n",
      "  [234.      234.      234.     ]\n",
      "  ...\n",
      "  [214.16406 207.16406 201.16406]\n",
      "  [215.      208.      202.     ]\n",
      "  [213.      206.      200.     ]]\n",
      "\n",
      " ...\n",
      "\n",
      " [[189.4375  231.4375  247.4375 ]\n",
      "  [187.3125  232.      247.4375 ]\n",
      "  [193.33594 234.21094 246.21094]\n",
      "  ...\n",
      "  [175.5625  226.5625  247.5625 ]\n",
      "  [176.5625  227.5625  248.5625 ]\n",
      "  [177.49219 229.50781 248.     ]]\n",
      "\n",
      " [[193.42969 234.8125  248.85938]\n",
      "  [187.29688 234.75    248.3125 ]\n",
      "  [182.91406 234.10156 247.35156]\n",
      "  ...\n",
      "  [172.5625  227.5625  247.5625 ]\n",
      "  [176.      227.      248.     ]\n",
      "  [176.875   227.875   246.875  ]]\n",
      "\n",
      " [[179.5625  229.9375  246.5625 ]\n",
      "  [196.57031 236.50781 252.44531]\n",
      "  [180.64844 233.64844 247.64844]\n",
      "  ...\n",
      "  [176.49219 228.17969 249.17969]\n",
      "  [176.57031 227.57031 248.57031]\n",
      "  [178.64844 229.64844 248.64844]]], shape=(128, 128, 3), dtype=float32)\n",
      "tf.Tensor(b'dog', shape=(), dtype=string)\n",
      "tf.Tensor(\n",
      "[[[230.875   230.875   232.875  ]\n",
      "  [232.375   232.375   231.75   ]\n",
      "  [234.      234.      234.     ]\n",
      "  ...\n",
      "  [214.6875  207.6875  201.6875 ]\n",
      "  [214.      205.      200.     ]\n",
      "  [213.      206.      200.     ]]\n",
      "\n",
      " [[230.125   230.125   232.125  ]\n",
      "  [232.375   232.375   234.375  ]\n",
      "  [234.03906 234.03906 234.03906]\n",
      "  ...\n",
      "  [214.      207.      201.     ]\n",
      "  [214.01562 207.0625  201.0625 ]\n",
      "  [213.      206.      200.     ]]\n",
      "\n",
      " [[230.125   231.      233.     ]\n",
      "  [231.      231.      231.     ]\n",
      "  [234.      234.      234.     ]\n",
      "  ...\n",
      "  [214.16406 207.16406 201.16406]\n",
      "  [215.      208.      202.     ]\n",
      "  [213.      206.      200.     ]]\n",
      "\n",
      " ...\n",
      "\n",
      " [[189.4375  231.4375  247.4375 ]\n",
      "  [187.3125  232.      247.4375 ]\n",
      "  [193.33594 234.21094 246.21094]\n",
      "  ...\n",
      "  [175.5625  226.5625  247.5625 ]\n",
      "  [176.5625  227.5625  248.5625 ]\n",
      "  [177.49219 229.50781 248.     ]]\n",
      "\n",
      " [[193.42969 234.8125  248.85938]\n",
      "  [187.29688 234.75    248.3125 ]\n",
      "  [182.91406 234.10156 247.35156]\n",
      "  ...\n",
      "  [172.5625  227.5625  247.5625 ]\n",
      "  [176.      227.      248.     ]\n",
      "  [176.875   227.875   246.875  ]]\n",
      "\n",
      " [[179.5625  229.9375  246.5625 ]\n",
      "  [196.57031 236.50781 252.44531]\n",
      "  [180.64844 233.64844 247.64844]\n",
      "  ...\n",
      "  [176.49219 228.17969 249.17969]\n",
      "  [176.57031 227.57031 248.57031]\n",
      "  [178.64844 229.64844 248.64844]]], shape=(128, 128, 3), dtype=float32)\n",
      "tf.Tensor(b'dog', shape=(), dtype=string)\n"
     ]
    }
   ],
   "source": [
    "for img,label in train_ds.map(process_image).take(3):\n",
    "    print(img)\n",
    "    print(label)\n",
    "    \n",
    "train_ds = train_ds.map(process_image)"
   ]
  },
  {
   "cell_type": "code",
   "execution_count": 63,
   "id": "152186a7",
   "metadata": {},
   "outputs": [],
   "source": [
    "def scale(img,label):\n",
    "    return img / 255 , label"
   ]
  },
  {
   "cell_type": "code",
   "execution_count": 64,
   "id": "a1cbf31d",
   "metadata": {},
   "outputs": [
    {
     "name": "stdout",
     "output_type": "stream",
     "text": [
      "tf.Tensor(\n",
      "[[[0.90539217 0.90539217 0.9132353 ]\n",
      "  [0.9112745  0.9112745  0.90882355]\n",
      "  [0.91764706 0.91764706 0.91764706]\n",
      "  ...\n",
      "  [0.8419118  0.8144608  0.79093134]\n",
      "  [0.8392157  0.8039216  0.78431374]\n",
      "  [0.8352941  0.80784315 0.78431374]]\n",
      "\n",
      " [[0.902451   0.902451   0.9102941 ]\n",
      "  [0.9112745  0.9112745  0.9191176 ]\n",
      "  [0.91780025 0.91780025 0.91780025]\n",
      "  ...\n",
      "  [0.8392157  0.8117647  0.7882353 ]\n",
      "  [0.83927697 0.8120098  0.7884804 ]\n",
      "  [0.8352941  0.80784315 0.78431374]]\n",
      "\n",
      " [[0.902451   0.90588236 0.9137255 ]\n",
      "  [0.90588236 0.90588236 0.90588236]\n",
      "  [0.91764706 0.91764706 0.91764706]\n",
      "  ...\n",
      "  [0.83985907 0.8124081  0.7888787 ]\n",
      "  [0.84313726 0.8156863  0.7921569 ]\n",
      "  [0.8352941  0.80784315 0.78431374]]\n",
      "\n",
      " ...\n",
      "\n",
      " [[0.74289215 0.907598   0.9703431 ]\n",
      "  [0.7345588  0.9098039  0.9703431 ]\n",
      "  [0.75818014 0.91847426 0.9655331 ]\n",
      "  ...\n",
      "  [0.6884804  0.88848037 0.97083336]\n",
      "  [0.69240195 0.89240193 0.9747549 ]\n",
      "  [0.6960478  0.9000306  0.972549  ]]\n",
      "\n",
      " [[0.7585478  0.92083335 0.9759191 ]\n",
      "  [0.73449755 0.92058825 0.9737745 ]\n",
      "  [0.7173101  0.91804534 0.9700061 ]\n",
      "  ...\n",
      "  [0.6767157  0.89240193 0.97083336]\n",
      "  [0.6901961  0.8901961  0.972549  ]\n",
      "  [0.6936275  0.89362746 0.96813726]]\n",
      "\n",
      " [[0.70416665 0.9017157  0.9669118 ]\n",
      "  [0.77086395 0.9274816  0.9899816 ]\n",
      "  [0.7084252  0.9162684  0.97117037]\n",
      "  ...\n",
      "  [0.6921262  0.8948223  0.97717524]\n",
      "  [0.6924326  0.8924326  0.97478557]\n",
      "  [0.7005821  0.90058213 0.97509193]]], shape=(128, 128, 3), dtype=float32)\n",
      "tf.Tensor(b'dog', shape=(), dtype=string)\n",
      "tf.Tensor(\n",
      "[[[0.90539217 0.90539217 0.9132353 ]\n",
      "  [0.9112745  0.9112745  0.90882355]\n",
      "  [0.91764706 0.91764706 0.91764706]\n",
      "  ...\n",
      "  [0.8419118  0.8144608  0.79093134]\n",
      "  [0.8392157  0.8039216  0.78431374]\n",
      "  [0.8352941  0.80784315 0.78431374]]\n",
      "\n",
      " [[0.902451   0.902451   0.9102941 ]\n",
      "  [0.9112745  0.9112745  0.9191176 ]\n",
      "  [0.91780025 0.91780025 0.91780025]\n",
      "  ...\n",
      "  [0.8392157  0.8117647  0.7882353 ]\n",
      "  [0.83927697 0.8120098  0.7884804 ]\n",
      "  [0.8352941  0.80784315 0.78431374]]\n",
      "\n",
      " [[0.902451   0.90588236 0.9137255 ]\n",
      "  [0.90588236 0.90588236 0.90588236]\n",
      "  [0.91764706 0.91764706 0.91764706]\n",
      "  ...\n",
      "  [0.83985907 0.8124081  0.7888787 ]\n",
      "  [0.84313726 0.8156863  0.7921569 ]\n",
      "  [0.8352941  0.80784315 0.78431374]]\n",
      "\n",
      " ...\n",
      "\n",
      " [[0.74289215 0.907598   0.9703431 ]\n",
      "  [0.7345588  0.9098039  0.9703431 ]\n",
      "  [0.75818014 0.91847426 0.9655331 ]\n",
      "  ...\n",
      "  [0.6884804  0.88848037 0.97083336]\n",
      "  [0.69240195 0.89240193 0.9747549 ]\n",
      "  [0.6960478  0.9000306  0.972549  ]]\n",
      "\n",
      " [[0.7585478  0.92083335 0.9759191 ]\n",
      "  [0.73449755 0.92058825 0.9737745 ]\n",
      "  [0.7173101  0.91804534 0.9700061 ]\n",
      "  ...\n",
      "  [0.6767157  0.89240193 0.97083336]\n",
      "  [0.6901961  0.8901961  0.972549  ]\n",
      "  [0.6936275  0.89362746 0.96813726]]\n",
      "\n",
      " [[0.70416665 0.9017157  0.9669118 ]\n",
      "  [0.77086395 0.9274816  0.9899816 ]\n",
      "  [0.7084252  0.9162684  0.97117037]\n",
      "  ...\n",
      "  [0.6921262  0.8948223  0.97717524]\n",
      "  [0.6924326  0.8924326  0.97478557]\n",
      "  [0.7005821  0.90058213 0.97509193]]], shape=(128, 128, 3), dtype=float32)\n",
      "tf.Tensor(b'dog', shape=(), dtype=string)\n",
      "tf.Tensor(\n",
      "[[[0.90539217 0.90539217 0.9132353 ]\n",
      "  [0.9112745  0.9112745  0.90882355]\n",
      "  [0.91764706 0.91764706 0.91764706]\n",
      "  ...\n",
      "  [0.8419118  0.8144608  0.79093134]\n",
      "  [0.8392157  0.8039216  0.78431374]\n",
      "  [0.8352941  0.80784315 0.78431374]]\n",
      "\n",
      " [[0.902451   0.902451   0.9102941 ]\n",
      "  [0.9112745  0.9112745  0.9191176 ]\n",
      "  [0.91780025 0.91780025 0.91780025]\n",
      "  ...\n",
      "  [0.8392157  0.8117647  0.7882353 ]\n",
      "  [0.83927697 0.8120098  0.7884804 ]\n",
      "  [0.8352941  0.80784315 0.78431374]]\n",
      "\n",
      " [[0.902451   0.90588236 0.9137255 ]\n",
      "  [0.90588236 0.90588236 0.90588236]\n",
      "  [0.91764706 0.91764706 0.91764706]\n",
      "  ...\n",
      "  [0.83985907 0.8124081  0.7888787 ]\n",
      "  [0.84313726 0.8156863  0.7921569 ]\n",
      "  [0.8352941  0.80784315 0.78431374]]\n",
      "\n",
      " ...\n",
      "\n",
      " [[0.74289215 0.907598   0.9703431 ]\n",
      "  [0.7345588  0.9098039  0.9703431 ]\n",
      "  [0.75818014 0.91847426 0.9655331 ]\n",
      "  ...\n",
      "  [0.6884804  0.88848037 0.97083336]\n",
      "  [0.69240195 0.89240193 0.9747549 ]\n",
      "  [0.6960478  0.9000306  0.972549  ]]\n",
      "\n",
      " [[0.7585478  0.92083335 0.9759191 ]\n",
      "  [0.73449755 0.92058825 0.9737745 ]\n",
      "  [0.7173101  0.91804534 0.9700061 ]\n",
      "  ...\n",
      "  [0.6767157  0.89240193 0.97083336]\n",
      "  [0.6901961  0.8901961  0.972549  ]\n",
      "  [0.6936275  0.89362746 0.96813726]]\n",
      "\n",
      " [[0.70416665 0.9017157  0.9669118 ]\n",
      "  [0.77086395 0.9274816  0.9899816 ]\n",
      "  [0.7084252  0.9162684  0.97117037]\n",
      "  ...\n",
      "  [0.6921262  0.8948223  0.97717524]\n",
      "  [0.6924326  0.8924326  0.97478557]\n",
      "  [0.7005821  0.90058213 0.97509193]]], shape=(128, 128, 3), dtype=float32)\n",
      "tf.Tensor(b'cat', shape=(), dtype=string)\n",
      "tf.Tensor(\n",
      "[[[0.90539217 0.90539217 0.9132353 ]\n",
      "  [0.9112745  0.9112745  0.90882355]\n",
      "  [0.91764706 0.91764706 0.91764706]\n",
      "  ...\n",
      "  [0.8419118  0.8144608  0.79093134]\n",
      "  [0.8392157  0.8039216  0.78431374]\n",
      "  [0.8352941  0.80784315 0.78431374]]\n",
      "\n",
      " [[0.902451   0.902451   0.9102941 ]\n",
      "  [0.9112745  0.9112745  0.9191176 ]\n",
      "  [0.91780025 0.91780025 0.91780025]\n",
      "  ...\n",
      "  [0.8392157  0.8117647  0.7882353 ]\n",
      "  [0.83927697 0.8120098  0.7884804 ]\n",
      "  [0.8352941  0.80784315 0.78431374]]\n",
      "\n",
      " [[0.902451   0.90588236 0.9137255 ]\n",
      "  [0.90588236 0.90588236 0.90588236]\n",
      "  [0.91764706 0.91764706 0.91764706]\n",
      "  ...\n",
      "  [0.83985907 0.8124081  0.7888787 ]\n",
      "  [0.84313726 0.8156863  0.7921569 ]\n",
      "  [0.8352941  0.80784315 0.78431374]]\n",
      "\n",
      " ...\n",
      "\n",
      " [[0.74289215 0.907598   0.9703431 ]\n",
      "  [0.7345588  0.9098039  0.9703431 ]\n",
      "  [0.75818014 0.91847426 0.9655331 ]\n",
      "  ...\n",
      "  [0.6884804  0.88848037 0.97083336]\n",
      "  [0.69240195 0.89240193 0.9747549 ]\n",
      "  [0.6960478  0.9000306  0.972549  ]]\n",
      "\n",
      " [[0.7585478  0.92083335 0.9759191 ]\n",
      "  [0.73449755 0.92058825 0.9737745 ]\n",
      "  [0.7173101  0.91804534 0.9700061 ]\n",
      "  ...\n",
      "  [0.6767157  0.89240193 0.97083336]\n",
      "  [0.6901961  0.8901961  0.972549  ]\n",
      "  [0.6936275  0.89362746 0.96813726]]\n",
      "\n",
      " [[0.70416665 0.9017157  0.9669118 ]\n",
      "  [0.77086395 0.9274816  0.9899816 ]\n",
      "  [0.7084252  0.9162684  0.97117037]\n",
      "  ...\n",
      "  [0.6921262  0.8948223  0.97717524]\n",
      "  [0.6924326  0.8924326  0.97478557]\n",
      "  [0.7005821  0.90058213 0.97509193]]], shape=(128, 128, 3), dtype=float32)\n",
      "tf.Tensor(b'dog', shape=(), dtype=string)\n",
      "tf.Tensor(\n",
      "[[[0.90539217 0.90539217 0.9132353 ]\n",
      "  [0.9112745  0.9112745  0.90882355]\n",
      "  [0.91764706 0.91764706 0.91764706]\n",
      "  ...\n",
      "  [0.8419118  0.8144608  0.79093134]\n",
      "  [0.8392157  0.8039216  0.78431374]\n",
      "  [0.8352941  0.80784315 0.78431374]]\n",
      "\n",
      " [[0.902451   0.902451   0.9102941 ]\n",
      "  [0.9112745  0.9112745  0.9191176 ]\n",
      "  [0.91780025 0.91780025 0.91780025]\n",
      "  ...\n",
      "  [0.8392157  0.8117647  0.7882353 ]\n",
      "  [0.83927697 0.8120098  0.7884804 ]\n",
      "  [0.8352941  0.80784315 0.78431374]]\n",
      "\n",
      " [[0.902451   0.90588236 0.9137255 ]\n",
      "  [0.90588236 0.90588236 0.90588236]\n",
      "  [0.91764706 0.91764706 0.91764706]\n",
      "  ...\n",
      "  [0.83985907 0.8124081  0.7888787 ]\n",
      "  [0.84313726 0.8156863  0.7921569 ]\n",
      "  [0.8352941  0.80784315 0.78431374]]\n",
      "\n",
      " ...\n",
      "\n",
      " [[0.74289215 0.907598   0.9703431 ]\n",
      "  [0.7345588  0.9098039  0.9703431 ]\n",
      "  [0.75818014 0.91847426 0.9655331 ]\n",
      "  ...\n",
      "  [0.6884804  0.88848037 0.97083336]\n",
      "  [0.69240195 0.89240193 0.9747549 ]\n",
      "  [0.6960478  0.9000306  0.972549  ]]\n",
      "\n",
      " [[0.7585478  0.92083335 0.9759191 ]\n",
      "  [0.73449755 0.92058825 0.9737745 ]\n",
      "  [0.7173101  0.91804534 0.9700061 ]\n",
      "  ...\n",
      "  [0.6767157  0.89240193 0.97083336]\n",
      "  [0.6901961  0.8901961  0.972549  ]\n",
      "  [0.6936275  0.89362746 0.96813726]]\n",
      "\n",
      " [[0.70416665 0.9017157  0.9669118 ]\n",
      "  [0.77086395 0.9274816  0.9899816 ]\n",
      "  [0.7084252  0.9162684  0.97117037]\n",
      "  ...\n",
      "  [0.6921262  0.8948223  0.97717524]\n",
      "  [0.6924326  0.8924326  0.97478557]\n",
      "  [0.7005821  0.90058213 0.97509193]]], shape=(128, 128, 3), dtype=float32)\n",
      "tf.Tensor(b'cat', shape=(), dtype=string)\n"
     ]
    }
   ],
   "source": [
    "train_ds = train_ds.map(scale)\n",
    "for image,label in train_ds.take(5):\n",
    "    print(image)\n",
    "    print(label)"
   ]
  },
  {
   "cell_type": "code",
   "execution_count": 65,
   "id": "a415fd20",
   "metadata": {},
   "outputs": [],
   "source": [
    "# Movie reviews are present as individual text file (one file per review) in review folder.\n",
    "# Folder structure looks like this\n",
    "# \n",
    "# reviews\n",
    "#     |__ positive\n",
    "#         |__pos_1.txt\n",
    "#         |__pos_2.txt\n",
    "#         |__pos_3.txt\n",
    "#     |__ negative\n",
    "#         |__neg_1.txt\n",
    "#         |__neg_2.txt\n",
    "#         |__neg_3.txt\n",
    "#         \n",
    "# You need to read these reviews using tf.data.Dataset and perform following transformations,\n",
    "# \n",
    "# Read text review and generate a label from folder name. your dataset should have review text and label as a tuple\n",
    "# Filter blank text review. Two files are blank in this dataset\n",
    "# Do all of the above transformations in single line of code. Also shuffle all the reviews"
   ]
  },
  {
   "cell_type": "code",
   "execution_count": 1,
   "id": "9b0ad846",
   "metadata": {},
   "outputs": [],
   "source": [
    "import tensorflow as tf"
   ]
  },
  {
   "cell_type": "code",
   "execution_count": 2,
   "id": "ce91ea17",
   "metadata": {},
   "outputs": [],
   "source": [
    "review_ds = tf.data.Dataset.list_files('reviews/*/*',shuffle=False) # Reads the file\n",
    "review_ds"
   ]
  },
  {
   "cell_type": "code",
   "execution_count": 5,
   "id": "ed0671b0",
   "metadata": {
    "scrolled": true
   },
   "outputs": [
    {
     "name": "stdout",
     "output_type": "stream",
     "text": [
      "b'reviews\\\\negative\\\\neg_1.txt'\n",
      "b'reviews\\\\negative\\\\neg_2.txt'\n",
      "b'reviews\\\\negative\\\\neg_3.txt'\n",
      "b'reviews\\\\positive\\\\pos_1.txt'\n",
      "b'reviews\\\\positive\\\\pos_2.txt'\n",
      "b'reviews\\\\positive\\\\pos_3.txt'\n"
     ]
    }
   ],
   "source": [
    "for file in review_ds:\n",
    "    print(file.numpy())"
   ]
  },
  {
   "cell_type": "markdown",
   "id": "3b82fc21",
   "metadata": {},
   "source": [
    "# Extract review text from these files. Extract label from folder name"
   ]
  },
  {
   "cell_type": "code",
   "execution_count": 6,
   "id": "d96e1a88",
   "metadata": {},
   "outputs": [],
   "source": [
    "import os\n",
    "def extract_review_and_label(file_path):\n",
    "    return tf.io.read_file(file_path) , tf.strings.split(file_path,os.path.sep)[-2]"
   ]
  },
  {
   "cell_type": "code",
   "execution_count": 11,
   "id": "9296b541",
   "metadata": {},
   "outputs": [
    {
     "name": "stdout",
     "output_type": "stream",
     "text": [
      "Review:  b\"Basically there's a family where a little boy (Jak\"\n",
      "Label:  b'negative'\n",
      "Review:  b'This show was an amazing, fresh & innovative idea '\n",
      "Label:  b'negative'\n",
      "Review:  b''\n",
      "Label:  b'negative'\n",
      "Review:  b'One of the other reviewers has mentioned that afte'\n",
      "Label:  b'positive'\n",
      "Review:  b'A wonderful little production. <br /><br />The fil'\n",
      "Label:  b'positive'\n",
      "Review:  b''\n",
      "Label:  b'positive'\n"
     ]
    }
   ],
   "source": [
    "review_ds_1 = review_ds.map(extract_review_and_label)\n",
    "for review , label in review_ds_1:\n",
    "    print(\"Review: \",review.numpy()[:50])\n",
    "    print(\"Label: \",label.numpy())"
   ]
  },
  {
   "cell_type": "markdown",
   "id": "98b6d009",
   "metadata": {},
   "source": [
    "# Filter blank reviews\n"
   ]
  },
  {
   "cell_type": "code",
   "execution_count": 17,
   "id": "cff89263",
   "metadata": {},
   "outputs": [
    {
     "name": "stdout",
     "output_type": "stream",
     "text": [
      "Review:  b\"Basically there's a family where a little boy (Jak\"\n",
      "Label:  b'negative'\n",
      "Review:  b'This show was an amazing, fresh & innovative idea '\n",
      "Label:  b'negative'\n",
      "Review:  b'One of the other reviewers has mentioned that afte'\n",
      "Label:  b'positive'\n",
      "Review:  b'A wonderful little production. <br /><br />The fil'\n",
      "Label:  b'positive'\n"
     ]
    }
   ],
   "source": [
    "review_ds_2 = review_ds_1.filter(lambda review , label : review!=\"\")\n",
    "for review,label in review_ds_2.as_numpy_iterator():\n",
    "    print(\"Review: \",review[:50])\n",
    "    print(\"Label: \",label)"
   ]
  },
  {
   "cell_type": "markdown",
   "id": "affc25bc",
   "metadata": {},
   "source": [
    "# Perform map, filter and shuffle all in single line of code"
   ]
  },
  {
   "cell_type": "code",
   "execution_count": 19,
   "id": "1d8041ad",
   "metadata": {},
   "outputs": [
    {
     "name": "stdout",
     "output_type": "stream",
     "text": [
      "Review: b\"Basically there's a family where a little boy (Jak\"\n",
      "Label: b'negative'\n",
      "Review: b'One of the other reviewers has mentioned that afte'\n",
      "Label: b'positive'\n",
      "Review: b'A wonderful little production. <br /><br />The fil'\n",
      "Label: b'positive'\n",
      "Review: b'This show was an amazing, fresh & innovative idea '\n",
      "Label: b'negative'\n"
     ]
    }
   ],
   "source": [
    "final_ds = review_ds.map(extract_review_and_label).filter(lambda review, label: review!=\"\").shuffle(3)\n",
    "for review, label in final_ds.as_numpy_iterator():\n",
    "    print(\"Review:\",review[:50])\n",
    "    print(\"Label:\",label)"
   ]
  },
  {
   "cell_type": "code",
   "execution_count": null,
   "id": "37f15597",
   "metadata": {},
   "outputs": [],
   "source": []
  }
 ],
 "metadata": {
  "kernelspec": {
   "display_name": "Python 3 (ipykernel)",
   "language": "python",
   "name": "python3"
  },
  "language_info": {
   "codemirror_mode": {
    "name": "ipython",
    "version": 3
   },
   "file_extension": ".py",
   "mimetype": "text/x-python",
   "name": "python",
   "nbconvert_exporter": "python",
   "pygments_lexer": "ipython3",
   "version": "3.11.9"
  }
 },
 "nbformat": 4,
 "nbformat_minor": 5
}
